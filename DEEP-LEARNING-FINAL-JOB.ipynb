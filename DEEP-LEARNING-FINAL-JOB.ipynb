{
 "cells": [
  {
   "cell_type": "markdown",
   "metadata": {},
   "source": [
    "# Final assignment\n",
    "\n",
    "### Practical Session\n",
    "\n",
    "<br/> student:Raimundas Pocius\n",
    "<br/> email: raimundas.po8348@go.kauko.lt"
   ]
  },
  {
   "cell_type": "markdown",
   "metadata": {},
   "source": [
    "## Project download 10 years of stock market data from website: https://finance.yahoo.com/  and obtain its stock price\n"
   ]
  },
  {
   "cell_type": "markdown",
   "metadata": {},
   "source": [
    "## Data loading and pre-processing"
   ]
  },
  {
   "cell_type": "code",
   "execution_count": 121,
   "metadata": {},
   "outputs": [],
   "source": [
    "# importing the libraries\n",
    "import numpy as np\n",
    "import matplotlib.pyplot as plt\n",
    "import pandas as pd"
   ]
  },
  {
   "cell_type": "markdown",
   "metadata": {},
   "source": [
    "### Import the dataset"
   ]
  },
  {
   "cell_type": "code",
   "execution_count": 122,
   "metadata": {},
   "outputs": [],
   "source": [
    "#importing the dataset\n",
    "# load the file contents \n",
    "dataset_train = pd.read_csv('GOOG_train.csv')"
   ]
  },
  {
   "cell_type": "code",
   "execution_count": 123,
   "metadata": {
    "scrolled": true
   },
   "outputs": [
    {
     "data": {
      "text/html": [
       "<div>\n",
       "<style scoped>\n",
       "    .dataframe tbody tr th:only-of-type {\n",
       "        vertical-align: middle;\n",
       "    }\n",
       "\n",
       "    .dataframe tbody tr th {\n",
       "        vertical-align: top;\n",
       "    }\n",
       "\n",
       "    .dataframe thead th {\n",
       "        text-align: right;\n",
       "    }\n",
       "</style>\n",
       "<table border=\"1\" class=\"dataframe\">\n",
       "  <thead>\n",
       "    <tr style=\"text-align: right;\">\n",
       "      <th></th>\n",
       "      <th>Date</th>\n",
       "      <th>Open</th>\n",
       "      <th>High</th>\n",
       "      <th>Low</th>\n",
       "      <th>Close</th>\n",
       "      <th>Adj Close</th>\n",
       "      <th>Volume</th>\n",
       "    </tr>\n",
       "  </thead>\n",
       "  <tbody>\n",
       "    <tr>\n",
       "      <td>0</td>\n",
       "      <td>2009-07-30</td>\n",
       "      <td>220.478592</td>\n",
       "      <td>224.892044</td>\n",
       "      <td>220.478592</td>\n",
       "      <td>221.987930</td>\n",
       "      <td>221.987930</td>\n",
       "      <td>6421000</td>\n",
       "    </tr>\n",
       "    <tr>\n",
       "      <td>1</td>\n",
       "      <td>2009-07-31</td>\n",
       "      <td>224.149826</td>\n",
       "      <td>225.504745</td>\n",
       "      <td>220.388931</td>\n",
       "      <td>220.697769</td>\n",
       "      <td>220.697769</td>\n",
       "      <td>5742200</td>\n",
       "    </tr>\n",
       "    <tr>\n",
       "      <td>2</td>\n",
       "      <td>2009-08-03</td>\n",
       "      <td>223.532150</td>\n",
       "      <td>226.102509</td>\n",
       "      <td>222.984207</td>\n",
       "      <td>225.260666</td>\n",
       "      <td>225.260666</td>\n",
       "      <td>5199900</td>\n",
       "    </tr>\n",
       "    <tr>\n",
       "      <td>3</td>\n",
       "      <td>2009-08-04</td>\n",
       "      <td>223.845978</td>\n",
       "      <td>226.152328</td>\n",
       "      <td>223.377731</td>\n",
       "      <td>226.017822</td>\n",
       "      <td>226.017822</td>\n",
       "      <td>4797400</td>\n",
       "    </tr>\n",
       "    <tr>\n",
       "      <td>4</td>\n",
       "      <td>2009-08-05</td>\n",
       "      <td>227.148590</td>\n",
       "      <td>227.601898</td>\n",
       "      <td>223.103760</td>\n",
       "      <td>224.727661</td>\n",
       "      <td>224.727661</td>\n",
       "      <td>4701400</td>\n",
       "    </tr>\n",
       "  </tbody>\n",
       "</table>\n",
       "</div>"
      ],
      "text/plain": [
       "         Date        Open        High         Low       Close   Adj Close  \\\n",
       "0  2009-07-30  220.478592  224.892044  220.478592  221.987930  221.987930   \n",
       "1  2009-07-31  224.149826  225.504745  220.388931  220.697769  220.697769   \n",
       "2  2009-08-03  223.532150  226.102509  222.984207  225.260666  225.260666   \n",
       "3  2009-08-04  223.845978  226.152328  223.377731  226.017822  226.017822   \n",
       "4  2009-08-05  227.148590  227.601898  223.103760  224.727661  224.727661   \n",
       "\n",
       "    Volume  \n",
       "0  6421000  \n",
       "1  5742200  \n",
       "2  5199900  \n",
       "3  4797400  \n",
       "4  4701400  "
      ]
     },
     "execution_count": 123,
     "metadata": {},
     "output_type": "execute_result"
    }
   ],
   "source": [
    "dataset_train.head()"
   ]
  },
  {
   "cell_type": "code",
   "execution_count": 124,
   "metadata": {},
   "outputs": [],
   "source": [
    "# Create a subtable of relevant entries (open values)\n",
    "# The .values makes this vector a numpy array\n",
    "training_set = dataset_train.iloc[:, 1:2].values "
   ]
  },
  {
   "cell_type": "code",
   "execution_count": 125,
   "metadata": {},
   "outputs": [
    {
     "data": {
      "text/plain": [
       "array([[ 220.478592],\n",
       "       [ 224.149826],\n",
       "       [ 223.53215 ],\n",
       "       ...,\n",
       "       [1224.040039],\n",
       "       [1241.050049],\n",
       "       [1225.410034]])"
      ]
     },
     "execution_count": 125,
     "metadata": {},
     "output_type": "execute_result"
    }
   ],
   "source": [
    "# Seperating \"Open\" column data because we are going to use it to train our neural network\n",
    "training_set = dataset_train.iloc[:, 1:2].values \n",
    "# Show separated \"Open\" colum data in an array\n",
    "training_set"
   ]
  },
  {
   "cell_type": "markdown",
   "metadata": {},
   "source": [
    "Numpy arrays do not support the view() and head() methods. [More on accessing the numpy data](https://jakevdp.github.io/PythonDataScienceHandbook/02.02-the-basics-of-numpy-arrays.html)\n"
   ]
  },
  {
   "cell_type": "markdown",
   "metadata": {},
   "source": [
    "### Feature Scaling\n",
    "\n",
    "Next we need to rescale our data to the range from 0 to 1. "
   ]
  },
  {
   "cell_type": "code",
   "execution_count": 126,
   "metadata": {},
   "outputs": [],
   "source": [
    "# Feature Scaling\n",
    "\n",
    "# import the MinMaxScaler\n",
    "from sklearn.preprocessing import MinMaxScaler"
   ]
  },
  {
   "cell_type": "code",
   "execution_count": 127,
   "metadata": {},
   "outputs": [],
   "source": [
    "# create a scaler instance to rescale all data to the range of 0 to 1\n",
    "sc = MinMaxScaler(feature_range = (0, 1))"
   ]
  },
  {
   "cell_type": "code",
   "execution_count": 128,
   "metadata": {},
   "outputs": [],
   "source": [
    "# create the actual training set of scaled values\n",
    "training_set_scaled = sc.fit_transform(training_set)"
   ]
  },
  {
   "cell_type": "code",
   "execution_count": 129,
   "metadata": {},
   "outputs": [
    {
     "data": {
      "text/plain": [
       "array([[0.00202903],\n",
       "       [0.00550668],\n",
       "       [0.00492157],\n",
       "       ...,\n",
       "       [0.95267434],\n",
       "       [0.96878745],\n",
       "       [0.9539721 ]])"
      ]
     },
     "execution_count": 129,
     "metadata": {},
     "output_type": "execute_result"
    }
   ],
   "source": [
    "#Then we check it with:\n",
    "training_set_scaled"
   ]
  },
  {
   "cell_type": "markdown",
   "metadata": {},
   "source": [
    "### Splitting the training set to dependent and independent variables"
   ]
  },
  {
   "cell_type": "code",
   "execution_count": 130,
   "metadata": {},
   "outputs": [],
   "source": [
    "# Creating a data structure \n",
    "\n",
    "# the 90 stock prices in the almos last 5  months before today\n",
    "X_train = [] "
   ]
  },
  {
   "cell_type": "code",
   "execution_count": 131,
   "metadata": {},
   "outputs": [],
   "source": [
    "# the stock price today\n",
    "y_train = [] "
   ]
  },
  {
   "cell_type": "code",
   "execution_count": 132,
   "metadata": {},
   "outputs": [],
   "source": [
    "# we start from day 90 because that is the first instance allowing us to \n",
    "# go back 90 days\n",
    "for i in range(90, 2517): \n",
    "    # 0 is the column ID, the only column in this case.    \n",
    "    # put the last 90 days values in one row of X_train\n",
    "    X_train.append(training_set_scaled[i-90:i, 0]) \n",
    "    y_train.append(training_set_scaled[i, 0])\n"
   ]
  },
  {
   "cell_type": "code",
   "execution_count": 210,
   "metadata": {},
   "outputs": [
    {
     "data": {
      "text/plain": [
       "array([[[0.00202903],\n",
       "        [0.00550668],\n",
       "        [0.00492157],\n",
       "        ...,\n",
       "        [0.07204938],\n",
       "        [0.07112454],\n",
       "        [0.07300258]],\n",
       "\n",
       "       [[0.00550668],\n",
       "        [0.00492157],\n",
       "        [0.00521885],\n",
       "        ...,\n",
       "        [0.07112454],\n",
       "        [0.07300258],\n",
       "        [0.06884543]],\n",
       "\n",
       "       [[0.00492157],\n",
       "        [0.00521885],\n",
       "        [0.00834733],\n",
       "        ...,\n",
       "        [0.07300258],\n",
       "        [0.06884543],\n",
       "        [0.06851038]],\n",
       "\n",
       "       ...,\n",
       "\n",
       "       [[0.91930198],\n",
       "        [0.9273916 ],\n",
       "        [0.94505824],\n",
       "        ...,\n",
       "        [0.87685468],\n",
       "        [0.86539272],\n",
       "        [0.87100049]],\n",
       "\n",
       "       [[0.9273916 ],\n",
       "        [0.94505824],\n",
       "        [0.95483404],\n",
       "        ...,\n",
       "        [0.86539272],\n",
       "        [0.87100049],\n",
       "        [0.95267434]],\n",
       "\n",
       "       [[0.94505824],\n",
       "        [0.95483404],\n",
       "        [0.92699382],\n",
       "        ...,\n",
       "        [0.87100049],\n",
       "        [0.95267434],\n",
       "        [0.96878745]]])"
      ]
     },
     "execution_count": 210,
     "metadata": {},
     "output_type": "execute_result"
    }
   ],
   "source": [
    "#Converting the X and Y arrays into NumPy arrays\n",
    "X_train, y_train = np.array(X_train), np.array(y_train)\n",
    "X_train"
   ]
  },
  {
   "cell_type": "markdown",
   "metadata": {},
   "source": [
    "### Reshaping the Matrix\n",
    "\n",
    "We need to add a new matrix dimension to accommodate the indicator (predictor). \n",
    "\n",
    "NumPy matrices are tensors (3D) and essentially we need to specify that our matrix consists of **60 days** (dimension x) times **total days in data set** (dimension y) times **1 value per matrix cell (scalar)** (dimension z)"
   ]
  },
  {
   "cell_type": "code",
   "execution_count": 135,
   "metadata": {},
   "outputs": [],
   "source": [
    "# Reshaping the data matrix, we retain the 2 original dimensions and add a third of depth=1\n",
    "X_train = np.reshape(X_train, (X_train.shape[0], X_train.shape[1], 1))"
   ]
  },
  {
   "cell_type": "markdown",
   "metadata": {},
   "source": [
    "## Building the RNN"
   ]
  },
  {
   "cell_type": "code",
   "execution_count": 136,
   "metadata": {},
   "outputs": [],
   "source": [
    "# Importing the Keras libraries and packages\n",
    "from keras.models import Sequential\n",
    "from keras.layers import Dense\n",
    "from keras.layers import LSTM\n",
    "from keras.layers import Dropout"
   ]
  },
  {
   "cell_type": "code",
   "execution_count": 137,
   "metadata": {},
   "outputs": [],
   "source": [
    "# Initialising the RNN as a sequence of layers\n",
    "regressor = Sequential()"
   ]
  },
  {
   "cell_type": "markdown",
   "metadata": {},
   "source": [
    "### Add First Layer"
   ]
  },
  {
   "cell_type": "code",
   "execution_count": 138,
   "metadata": {},
   "outputs": [],
   "source": [
    "# Adding the input layer and the LSTM layer\n",
    "regressor.add(LSTM(units = 50, return_sequences = True, input_shape =  (X_train.shape[1], 1)))"
   ]
  },
  {
   "cell_type": "code",
   "execution_count": 139,
   "metadata": {},
   "outputs": [],
   "source": [
    "# the argument is the dropout rate to ignore in the layers (20%), \n",
    "regressor.add(Dropout(0.2))\n"
   ]
  },
  {
   "cell_type": "markdown",
   "metadata": {},
   "source": [
    "### Add More Layers\n",
    "We can add more LSTM layers but along with Dropout regularization to make sure we avoid overfitting! "
   ]
  },
  {
   "cell_type": "code",
   "execution_count": 140,
   "metadata": {},
   "outputs": [],
   "source": [
    "# Adding a second LSTM layer and some Dropout regularisation\n",
    "regressor.add(LSTM(units = 50, return_sequences = True))\n",
    "regressor.add(Dropout(0.2))"
   ]
  },
  {
   "cell_type": "code",
   "execution_count": 141,
   "metadata": {},
   "outputs": [],
   "source": [
    "# Adding a third LSTM layer and some Dropout regularisation\n",
    "regressor.add(LSTM(units = 50, return_sequences = True))\n",
    "regressor.add(Dropout(0.2))"
   ]
  },
  {
   "cell_type": "code",
   "execution_count": 142,
   "metadata": {},
   "outputs": [],
   "source": [
    "# Adding a fourth LSTM layer and some Dropout regularisation\n",
    "# we removed the return_sequences because we no longer return a \n",
    "# sequence but a value instead\n",
    "regressor.add(LSTM(units = 50))\n",
    "regressor.add(Dropout(0.2))"
   ]
  },
  {
   "cell_type": "markdown",
   "metadata": {},
   "source": [
    "### let's add Output Layer & Compiling\n",
    "\n",
    "The output has 1 dimension , i.e. one value to be predicted thus or output fully connected layer has dimensionality = 1.\n",
    "\n",
    "- **Optimizer**: rmsprop is recommended in the Keras documentation. The Adam optimizer is also a powerful choice.\n",
    "- **Loss function**: regression problems take the mean square error as most common"
   ]
  },
  {
   "cell_type": "code",
   "execution_count": 143,
   "metadata": {},
   "outputs": [],
   "source": [
    "# Adding the output layer\n",
    "regressor.add(Dense(units = 1))"
   ]
  },
  {
   "cell_type": "code",
   "execution_count": 144,
   "metadata": {},
   "outputs": [],
   "source": [
    "# Compiling the RNN\n",
    "regressor.compile(optimizer = 'adam', loss = 'mean_squared_error')"
   ]
  },
  {
   "cell_type": "markdown",
   "metadata": {},
   "source": [
    "## Train and deploy the RNN"
   ]
  },
  {
   "cell_type": "markdown",
   "metadata": {},
   "source": [
    "### Fit the RNN to the Training set\n",
    "\n",
    "We now want to train our RNN using the data in our **Training Set X** and **predictors in y** (ground truth in this case). Parameters that can be specified are the:\n",
    "\n",
    "- **Batch size**:  update the cell weights not on every stock price on every batch_size values; \n",
    "- **Number of epochs**: how many iterations to be used, i.e. number of forward and backward propagations for the update of the weights\n"
   ]
  },
  {
   "cell_type": "code",
   "execution_count": 194,
   "metadata": {},
   "outputs": [
    {
     "name": "stdout",
     "output_type": "stream",
     "text": [
      "Epoch 1/100\n",
      "2427/2427 [==============================] - 18s 7ms/step - loss: 7.8190e-04\n",
      "Epoch 2/100\n",
      "2427/2427 [==============================] - 18s 7ms/step - loss: 8.2427e-04\n",
      "Epoch 3/100\n",
      "2427/2427 [==============================] - 18s 7ms/step - loss: 8.0402e-04\n",
      "Epoch 4/100\n",
      "2427/2427 [==============================] - 18s 7ms/step - loss: 8.2795e-04\n",
      "Epoch 5/100\n",
      "2427/2427 [==============================] - 18s 7ms/step - loss: 7.5294e-04\n",
      "Epoch 6/100\n",
      "2427/2427 [==============================] - 18s 7ms/step - loss: 8.6132e-04\n",
      "Epoch 7/100\n",
      "2427/2427 [==============================] - 18s 7ms/step - loss: 8.6540e-04\n",
      "Epoch 8/100\n",
      "2427/2427 [==============================] - 17s 7ms/step - loss: 9.3515e-04\n",
      "Epoch 9/100\n",
      "2427/2427 [==============================] - 18s 7ms/step - loss: 7.4507e-04\n",
      "Epoch 10/100\n",
      "2427/2427 [==============================] - 18s 7ms/step - loss: 7.5846e-04\n",
      "Epoch 11/100\n",
      "2427/2427 [==============================] - 18s 7ms/step - loss: 7.5284e-04\n",
      "Epoch 12/100\n",
      "2427/2427 [==============================] - 18s 7ms/step - loss: 8.0074e-04\n",
      "Epoch 13/100\n",
      "2427/2427 [==============================] - 17s 7ms/step - loss: 8.2293e-04\n",
      "Epoch 14/100\n",
      "2427/2427 [==============================] - 18s 7ms/step - loss: 8.0113e-04\n",
      "Epoch 15/100\n",
      "2427/2427 [==============================] - 18s 7ms/step - loss: 7.2550e-04\n",
      "Epoch 16/100\n",
      "2427/2427 [==============================] - 18s 7ms/step - loss: 7.3441e-04\n",
      "Epoch 17/100\n",
      "2427/2427 [==============================] - 18s 7ms/step - loss: 7.3869e-04\n",
      "Epoch 18/100\n",
      "2427/2427 [==============================] - 18s 7ms/step - loss: 7.2223e-04\n",
      "Epoch 19/100\n",
      "2427/2427 [==============================] - 18s 7ms/step - loss: 7.7146e-04\n",
      "Epoch 20/100\n",
      "2427/2427 [==============================] - 18s 7ms/step - loss: 7.6498e-04\n",
      "Epoch 21/100\n",
      "2427/2427 [==============================] - 18s 7ms/step - loss: 8.3114e-04\n",
      "Epoch 22/100\n",
      "2427/2427 [==============================] - 18s 7ms/step - loss: 8.3701e-04\n",
      "Epoch 23/100\n",
      "2427/2427 [==============================] - 18s 7ms/step - loss: 8.1554e-04\n",
      "Epoch 24/100\n",
      "2427/2427 [==============================] - 18s 7ms/step - loss: 7.8014e-04\n",
      "Epoch 25/100\n",
      "2427/2427 [==============================] - 18s 7ms/step - loss: 7.6931e-04\n",
      "Epoch 26/100\n",
      "2427/2427 [==============================] - 18s 7ms/step - loss: 8.7266e-04\n",
      "Epoch 27/100\n",
      "2427/2427 [==============================] - 18s 7ms/step - loss: 8.5334e-04\n",
      "Epoch 28/100\n",
      "2427/2427 [==============================] - 18s 7ms/step - loss: 7.2846e-04\n",
      "Epoch 29/100\n",
      "2427/2427 [==============================] - 18s 7ms/step - loss: 8.3102e-04\n",
      "Epoch 30/100\n",
      "2427/2427 [==============================] - 18s 7ms/step - loss: 7.6334e-04\n",
      "Epoch 31/100\n",
      "2427/2427 [==============================] - 18s 7ms/step - loss: 7.0589e-04\n",
      "Epoch 32/100\n",
      "2427/2427 [==============================] - 18s 7ms/step - loss: 7.2219e-04\n",
      "Epoch 33/100\n",
      "2427/2427 [==============================] - 18s 7ms/step - loss: 7.3681e-04\n",
      "Epoch 34/100\n",
      "2427/2427 [==============================] - 18s 7ms/step - loss: 7.2822e-04\n",
      "Epoch 35/100\n",
      "2427/2427 [==============================] - 18s 7ms/step - loss: 7.9338e-04\n",
      "Epoch 36/100\n",
      "2427/2427 [==============================] - 19s 8ms/step - loss: 7.4942e-04\n",
      "Epoch 37/100\n",
      "2427/2427 [==============================] - 18s 7ms/step - loss: 7.9091e-04\n",
      "Epoch 38/100\n",
      "2427/2427 [==============================] - 18s 7ms/step - loss: 7.3593e-04\n",
      "Epoch 39/100\n",
      "2427/2427 [==============================] - 18s 7ms/step - loss: 7.5226e-04\n",
      "Epoch 40/100\n",
      "2427/2427 [==============================] - 18s 7ms/step - loss: 7.4016e-04\n",
      "Epoch 41/100\n",
      "2427/2427 [==============================] - 18s 7ms/step - loss: 7.3922e-04\n",
      "Epoch 42/100\n",
      "2427/2427 [==============================] - 18s 7ms/step - loss: 7.2537e-04\n",
      "Epoch 43/100\n",
      "2427/2427 [==============================] - 18s 7ms/step - loss: 7.4661e-04\n",
      "Epoch 44/100\n",
      "2427/2427 [==============================] - 18s 7ms/step - loss: 7.8850e-04\n",
      "Epoch 45/100\n",
      "2427/2427 [==============================] - 18s 7ms/step - loss: 7.6904e-04\n",
      "Epoch 46/100\n",
      "2427/2427 [==============================] - 18s 7ms/step - loss: 7.7687e-04\n",
      "Epoch 47/100\n",
      "2427/2427 [==============================] - 18s 7ms/step - loss: 7.5559e-04\n",
      "Epoch 48/100\n",
      "2427/2427 [==============================] - 18s 7ms/step - loss: 7.6024e-04\n",
      "Epoch 49/100\n",
      "2427/2427 [==============================] - 18s 7ms/step - loss: 7.4888e-04\n",
      "Epoch 50/100\n",
      "2427/2427 [==============================] - 18s 7ms/step - loss: 7.8074e-04\n",
      "Epoch 51/100\n",
      "2427/2427 [==============================] - 18s 7ms/step - loss: 7.9225e-04\n",
      "Epoch 52/100\n",
      "2427/2427 [==============================] - 18s 7ms/step - loss: 6.9280e-04\n",
      "Epoch 53/100\n",
      "2427/2427 [==============================] - 18s 7ms/step - loss: 6.8074e-04\n",
      "Epoch 54/100\n",
      "2427/2427 [==============================] - 18s 7ms/step - loss: 7.8900e-04\n",
      "Epoch 55/100\n",
      "2427/2427 [==============================] - 18s 7ms/step - loss: 7.7747e-04\n",
      "Epoch 56/100\n",
      "2427/2427 [==============================] - 18s 7ms/step - loss: 7.1052e-04\n",
      "Epoch 57/100\n",
      "2427/2427 [==============================] - 18s 7ms/step - loss: 7.0530e-04\n",
      "Epoch 58/100\n",
      "2427/2427 [==============================] - 18s 7ms/step - loss: 7.1848e-04\n",
      "Epoch 59/100\n",
      "2427/2427 [==============================] - 18s 7ms/step - loss: 7.6242e-04\n",
      "Epoch 60/100\n",
      "2427/2427 [==============================] - 18s 7ms/step - loss: 7.2576e-04\n",
      "Epoch 61/100\n",
      "2427/2427 [==============================] - 18s 7ms/step - loss: 7.3882e-04\n",
      "Epoch 62/100\n",
      "2427/2427 [==============================] - 18s 7ms/step - loss: 7.2593e-04\n",
      "Epoch 63/100\n",
      "2427/2427 [==============================] - 18s 7ms/step - loss: 6.8831e-04\n",
      "Epoch 64/100\n",
      "2427/2427 [==============================] - 18s 7ms/step - loss: 7.0098e-04\n",
      "Epoch 65/100\n",
      "2427/2427 [==============================] - 18s 7ms/step - loss: 7.9545e-04\n",
      "Epoch 66/100\n",
      "2427/2427 [==============================] - 18s 7ms/step - loss: 7.5524e-04\n",
      "Epoch 67/100\n",
      "2427/2427 [==============================] - 18s 7ms/step - loss: 7.0794e-04\n",
      "Epoch 68/100\n",
      "2427/2427 [==============================] - 18s 7ms/step - loss: 8.0878e-04\n",
      "Epoch 69/100\n",
      "2427/2427 [==============================] - 18s 7ms/step - loss: 7.0853e-04\n",
      "Epoch 70/100\n",
      "2427/2427 [==============================] - 18s 7ms/step - loss: 7.3935e-04\n",
      "Epoch 71/100\n",
      "2427/2427 [==============================] - 18s 7ms/step - loss: 7.2919e-04\n",
      "Epoch 72/100\n",
      "2427/2427 [==============================] - 18s 7ms/step - loss: 6.8609e-04\n",
      "Epoch 73/100\n",
      "2427/2427 [==============================] - 18s 7ms/step - loss: 7.1243e-04\n",
      "Epoch 74/100\n",
      "2427/2427 [==============================] - 18s 7ms/step - loss: 7.7690e-04\n",
      "Epoch 75/100\n",
      "2427/2427 [==============================] - 18s 7ms/step - loss: 7.6079e-04\n",
      "Epoch 76/100\n",
      "2427/2427 [==============================] - 18s 7ms/step - loss: 7.3904e-04\n",
      "Epoch 77/100\n",
      "2427/2427 [==============================] - 18s 7ms/step - loss: 8.6334e-04\n",
      "Epoch 78/100\n",
      "2427/2427 [==============================] - 18s 7ms/step - loss: 7.8029e-04\n",
      "Epoch 79/100\n",
      "2427/2427 [==============================] - 18s 7ms/step - loss: 6.9075e-04\n",
      "Epoch 80/100\n",
      "2427/2427 [==============================] - 18s 7ms/step - loss: 7.2764e-04\n",
      "Epoch 81/100\n",
      "2427/2427 [==============================] - 18s 7ms/step - loss: 7.8133e-04\n",
      "Epoch 82/100\n",
      "2427/2427 [==============================] - 18s 7ms/step - loss: 7.4718e-04\n",
      "Epoch 83/100\n",
      "2427/2427 [==============================] - 18s 7ms/step - loss: 7.1745e-04\n",
      "Epoch 84/100\n",
      "2427/2427 [==============================] - 18s 7ms/step - loss: 7.4176e-04\n",
      "Epoch 85/100\n",
      "2427/2427 [==============================] - 18s 7ms/step - loss: 7.9716e-04\n",
      "Epoch 86/100\n",
      "2427/2427 [==============================] - 18s 7ms/step - loss: 7.3650e-04\n",
      "Epoch 87/100\n",
      "2427/2427 [==============================] - 18s 7ms/step - loss: 7.8344e-04\n",
      "Epoch 88/100\n",
      "2427/2427 [==============================] - 18s 7ms/step - loss: 6.9422e-04\n",
      "Epoch 89/100\n",
      "2427/2427 [==============================] - 18s 7ms/step - loss: 7.3214e-04\n",
      "Epoch 90/100\n",
      "2427/2427 [==============================] - 18s 7ms/step - loss: 8.3536e-04\n",
      "Epoch 91/100\n",
      "2427/2427 [==============================] - 18s 7ms/step - loss: 7.4288e-04\n",
      "Epoch 92/100\n",
      "2427/2427 [==============================] - 17s 7ms/step - loss: 7.6065e-04\n",
      "Epoch 93/100\n",
      "2427/2427 [==============================] - 18s 7ms/step - loss: 7.2898e-04\n",
      "Epoch 94/100\n",
      "2427/2427 [==============================] - 18s 7ms/step - loss: 7.4414e-04\n",
      "Epoch 95/100\n",
      "2427/2427 [==============================] - 17s 7ms/step - loss: 8.3054e-04\n",
      "Epoch 96/100\n",
      "2427/2427 [==============================] - 18s 7ms/step - loss: 7.3791e-04\n",
      "Epoch 97/100\n",
      "2427/2427 [==============================] - 18s 7ms/step - loss: 7.5795e-04\n",
      "Epoch 98/100\n",
      "2427/2427 [==============================] - 18s 7ms/step - loss: 7.3019e-04\n",
      "Epoch 99/100\n",
      "2427/2427 [==============================] - 18s 7ms/step - loss: 7.0260e-04\n",
      "Epoch 100/100\n",
      "2427/2427 [==============================] - 18s 7ms/step - loss: 6.4837e-04\n"
     ]
    },
    {
     "data": {
      "text/plain": [
       "<keras.callbacks.History at 0x7fb4b2526b70>"
      ]
     },
     "execution_count": 194,
     "metadata": {},
     "output_type": "execute_result"
    }
   ],
   "source": [
    "# Fitting the RNN to the Training set\n",
    "regressor.fit(X_train, y_train, epochs = 100, batch_size = 32)"
   ]
  },
  {
   "cell_type": "markdown",
   "metadata": {},
   "source": [
    "### Computing Predictions\n",
    "\n",
    "Create a data-frame by importing the Google Stock Price Test set for January 2017 using pandas and make it a numpy array.\n",
    "\n",
    "There are 20 financial days in one month, weekends are excluded!\n"
   ]
  },
  {
   "cell_type": "code",
   "execution_count": 195,
   "metadata": {},
   "outputs": [
    {
     "data": {
      "text/html": [
       "<div>\n",
       "<style scoped>\n",
       "    .dataframe tbody tr th:only-of-type {\n",
       "        vertical-align: middle;\n",
       "    }\n",
       "\n",
       "    .dataframe tbody tr th {\n",
       "        vertical-align: top;\n",
       "    }\n",
       "\n",
       "    .dataframe thead th {\n",
       "        text-align: right;\n",
       "    }\n",
       "</style>\n",
       "<table border=\"1\" class=\"dataframe\">\n",
       "  <thead>\n",
       "    <tr style=\"text-align: right;\">\n",
       "      <th></th>\n",
       "      <th>Date</th>\n",
       "      <th>Open</th>\n",
       "      <th>High</th>\n",
       "      <th>Low</th>\n",
       "      <th>Close</th>\n",
       "      <th>Adj Close</th>\n",
       "      <th>Volume</th>\n",
       "    </tr>\n",
       "  </thead>\n",
       "  <tbody>\n",
       "    <tr>\n",
       "      <td>0</td>\n",
       "      <td>2019-07-30</td>\n",
       "      <td>1225.410034</td>\n",
       "      <td>1234.869995</td>\n",
       "      <td>1223.300049</td>\n",
       "      <td>1225.140015</td>\n",
       "      <td>1225.140015</td>\n",
       "      <td>1453300</td>\n",
       "    </tr>\n",
       "    <tr>\n",
       "      <td>1</td>\n",
       "      <td>2019-07-31</td>\n",
       "      <td>1223.000000</td>\n",
       "      <td>1234.000000</td>\n",
       "      <td>1207.764038</td>\n",
       "      <td>1216.680054</td>\n",
       "      <td>1216.680054</td>\n",
       "      <td>1725500</td>\n",
       "    </tr>\n",
       "    <tr>\n",
       "      <td>2</td>\n",
       "      <td>2019-08-01</td>\n",
       "      <td>1214.030029</td>\n",
       "      <td>1234.109985</td>\n",
       "      <td>1205.719971</td>\n",
       "      <td>1209.010010</td>\n",
       "      <td>1209.010010</td>\n",
       "      <td>1698500</td>\n",
       "    </tr>\n",
       "    <tr>\n",
       "      <td>3</td>\n",
       "      <td>2019-08-02</td>\n",
       "      <td>1200.739990</td>\n",
       "      <td>1206.900024</td>\n",
       "      <td>1188.939941</td>\n",
       "      <td>1193.989990</td>\n",
       "      <td>1193.989990</td>\n",
       "      <td>1645100</td>\n",
       "    </tr>\n",
       "    <tr>\n",
       "      <td>4</td>\n",
       "      <td>2019-08-05</td>\n",
       "      <td>1170.040039</td>\n",
       "      <td>1175.239990</td>\n",
       "      <td>1140.140015</td>\n",
       "      <td>1152.319946</td>\n",
       "      <td>1152.319946</td>\n",
       "      <td>2597500</td>\n",
       "    </tr>\n",
       "    <tr>\n",
       "      <td>5</td>\n",
       "      <td>2019-08-06</td>\n",
       "      <td>1163.310059</td>\n",
       "      <td>1179.959961</td>\n",
       "      <td>1160.000000</td>\n",
       "      <td>1169.949951</td>\n",
       "      <td>1169.949951</td>\n",
       "      <td>1709400</td>\n",
       "    </tr>\n",
       "    <tr>\n",
       "      <td>6</td>\n",
       "      <td>2019-08-07</td>\n",
       "      <td>1156.000000</td>\n",
       "      <td>1178.444946</td>\n",
       "      <td>1149.624023</td>\n",
       "      <td>1173.989990</td>\n",
       "      <td>1173.989990</td>\n",
       "      <td>1444300</td>\n",
       "    </tr>\n",
       "    <tr>\n",
       "      <td>7</td>\n",
       "      <td>2019-08-08</td>\n",
       "      <td>1182.829956</td>\n",
       "      <td>1205.010010</td>\n",
       "      <td>1173.020020</td>\n",
       "      <td>1204.800049</td>\n",
       "      <td>1204.800049</td>\n",
       "      <td>1468000</td>\n",
       "    </tr>\n",
       "    <tr>\n",
       "      <td>8</td>\n",
       "      <td>2019-08-09</td>\n",
       "      <td>1197.989990</td>\n",
       "      <td>1203.880005</td>\n",
       "      <td>1183.603027</td>\n",
       "      <td>1188.010010</td>\n",
       "      <td>1188.010010</td>\n",
       "      <td>1065700</td>\n",
       "    </tr>\n",
       "    <tr>\n",
       "      <td>9</td>\n",
       "      <td>2019-08-12</td>\n",
       "      <td>1179.209961</td>\n",
       "      <td>1184.959961</td>\n",
       "      <td>1167.671997</td>\n",
       "      <td>1174.709961</td>\n",
       "      <td>1174.709961</td>\n",
       "      <td>1003000</td>\n",
       "    </tr>\n",
       "    <tr>\n",
       "      <td>10</td>\n",
       "      <td>2019-08-13</td>\n",
       "      <td>1171.459961</td>\n",
       "      <td>1204.780029</td>\n",
       "      <td>1171.459961</td>\n",
       "      <td>1197.270020</td>\n",
       "      <td>1197.270020</td>\n",
       "      <td>1294400</td>\n",
       "    </tr>\n",
       "    <tr>\n",
       "      <td>11</td>\n",
       "      <td>2019-08-14</td>\n",
       "      <td>1176.310059</td>\n",
       "      <td>1182.300049</td>\n",
       "      <td>1160.540039</td>\n",
       "      <td>1164.290039</td>\n",
       "      <td>1164.290039</td>\n",
       "      <td>1578700</td>\n",
       "    </tr>\n",
       "    <tr>\n",
       "      <td>12</td>\n",
       "      <td>2019-08-15</td>\n",
       "      <td>1163.500000</td>\n",
       "      <td>1175.839966</td>\n",
       "      <td>1162.109985</td>\n",
       "      <td>1167.260010</td>\n",
       "      <td>1167.260010</td>\n",
       "      <td>1218700</td>\n",
       "    </tr>\n",
       "    <tr>\n",
       "      <td>13</td>\n",
       "      <td>2019-08-16</td>\n",
       "      <td>1179.550049</td>\n",
       "      <td>1182.719971</td>\n",
       "      <td>1171.810059</td>\n",
       "      <td>1177.599976</td>\n",
       "      <td>1177.599976</td>\n",
       "      <td>1313300</td>\n",
       "    </tr>\n",
       "    <tr>\n",
       "      <td>14</td>\n",
       "      <td>2019-08-19</td>\n",
       "      <td>1190.089966</td>\n",
       "      <td>1206.989990</td>\n",
       "      <td>1190.089966</td>\n",
       "      <td>1198.449951</td>\n",
       "      <td>1198.449951</td>\n",
       "      <td>1231600</td>\n",
       "    </tr>\n",
       "    <tr>\n",
       "      <td>15</td>\n",
       "      <td>2019-08-20</td>\n",
       "      <td>1195.250000</td>\n",
       "      <td>1196.060059</td>\n",
       "      <td>1182.109985</td>\n",
       "      <td>1182.689941</td>\n",
       "      <td>1182.689941</td>\n",
       "      <td>915500</td>\n",
       "    </tr>\n",
       "    <tr>\n",
       "      <td>16</td>\n",
       "      <td>2019-08-21</td>\n",
       "      <td>1193.150024</td>\n",
       "      <td>1199.000000</td>\n",
       "      <td>1187.430054</td>\n",
       "      <td>1191.250000</td>\n",
       "      <td>1191.250000</td>\n",
       "      <td>740700</td>\n",
       "    </tr>\n",
       "    <tr>\n",
       "      <td>17</td>\n",
       "      <td>2019-08-22</td>\n",
       "      <td>1194.069946</td>\n",
       "      <td>1198.011963</td>\n",
       "      <td>1178.579956</td>\n",
       "      <td>1189.530029</td>\n",
       "      <td>1189.530029</td>\n",
       "      <td>947500</td>\n",
       "    </tr>\n",
       "    <tr>\n",
       "      <td>18</td>\n",
       "      <td>2019-08-23</td>\n",
       "      <td>1181.989990</td>\n",
       "      <td>1194.079956</td>\n",
       "      <td>1147.750000</td>\n",
       "      <td>1151.290039</td>\n",
       "      <td>1151.290039</td>\n",
       "      <td>1687000</td>\n",
       "    </tr>\n",
       "    <tr>\n",
       "      <td>19</td>\n",
       "      <td>2019-08-26</td>\n",
       "      <td>1157.260010</td>\n",
       "      <td>1169.469971</td>\n",
       "      <td>1152.959961</td>\n",
       "      <td>1168.890015</td>\n",
       "      <td>1168.890015</td>\n",
       "      <td>1226100</td>\n",
       "    </tr>\n",
       "    <tr>\n",
       "      <td>20</td>\n",
       "      <td>2019-08-27</td>\n",
       "      <td>1180.530029</td>\n",
       "      <td>1182.400024</td>\n",
       "      <td>1161.449951</td>\n",
       "      <td>1167.839966</td>\n",
       "      <td>1167.839966</td>\n",
       "      <td>1077200</td>\n",
       "    </tr>\n",
       "    <tr>\n",
       "      <td>21</td>\n",
       "      <td>2019-08-28</td>\n",
       "      <td>1161.709961</td>\n",
       "      <td>1176.420044</td>\n",
       "      <td>1157.300049</td>\n",
       "      <td>1171.020020</td>\n",
       "      <td>1171.020020</td>\n",
       "      <td>802000</td>\n",
       "    </tr>\n",
       "    <tr>\n",
       "      <td>22</td>\n",
       "      <td>2019-08-29</td>\n",
       "      <td>1181.119995</td>\n",
       "      <td>1196.060059</td>\n",
       "      <td>1181.119995</td>\n",
       "      <td>1192.849976</td>\n",
       "      <td>1192.849976</td>\n",
       "      <td>1088400</td>\n",
       "    </tr>\n",
       "    <tr>\n",
       "      <td>23</td>\n",
       "      <td>2019-08-30</td>\n",
       "      <td>1198.500000</td>\n",
       "      <td>1198.500000</td>\n",
       "      <td>1183.802979</td>\n",
       "      <td>1188.099976</td>\n",
       "      <td>1188.099976</td>\n",
       "      <td>1129800</td>\n",
       "    </tr>\n",
       "  </tbody>\n",
       "</table>\n",
       "</div>"
      ],
      "text/plain": [
       "          Date         Open         High          Low        Close  \\\n",
       "0   2019-07-30  1225.410034  1234.869995  1223.300049  1225.140015   \n",
       "1   2019-07-31  1223.000000  1234.000000  1207.764038  1216.680054   \n",
       "2   2019-08-01  1214.030029  1234.109985  1205.719971  1209.010010   \n",
       "3   2019-08-02  1200.739990  1206.900024  1188.939941  1193.989990   \n",
       "4   2019-08-05  1170.040039  1175.239990  1140.140015  1152.319946   \n",
       "5   2019-08-06  1163.310059  1179.959961  1160.000000  1169.949951   \n",
       "6   2019-08-07  1156.000000  1178.444946  1149.624023  1173.989990   \n",
       "7   2019-08-08  1182.829956  1205.010010  1173.020020  1204.800049   \n",
       "8   2019-08-09  1197.989990  1203.880005  1183.603027  1188.010010   \n",
       "9   2019-08-12  1179.209961  1184.959961  1167.671997  1174.709961   \n",
       "10  2019-08-13  1171.459961  1204.780029  1171.459961  1197.270020   \n",
       "11  2019-08-14  1176.310059  1182.300049  1160.540039  1164.290039   \n",
       "12  2019-08-15  1163.500000  1175.839966  1162.109985  1167.260010   \n",
       "13  2019-08-16  1179.550049  1182.719971  1171.810059  1177.599976   \n",
       "14  2019-08-19  1190.089966  1206.989990  1190.089966  1198.449951   \n",
       "15  2019-08-20  1195.250000  1196.060059  1182.109985  1182.689941   \n",
       "16  2019-08-21  1193.150024  1199.000000  1187.430054  1191.250000   \n",
       "17  2019-08-22  1194.069946  1198.011963  1178.579956  1189.530029   \n",
       "18  2019-08-23  1181.989990  1194.079956  1147.750000  1151.290039   \n",
       "19  2019-08-26  1157.260010  1169.469971  1152.959961  1168.890015   \n",
       "20  2019-08-27  1180.530029  1182.400024  1161.449951  1167.839966   \n",
       "21  2019-08-28  1161.709961  1176.420044  1157.300049  1171.020020   \n",
       "22  2019-08-29  1181.119995  1196.060059  1181.119995  1192.849976   \n",
       "23  2019-08-30  1198.500000  1198.500000  1183.802979  1188.099976   \n",
       "\n",
       "      Adj Close   Volume  \n",
       "0   1225.140015  1453300  \n",
       "1   1216.680054  1725500  \n",
       "2   1209.010010  1698500  \n",
       "3   1193.989990  1645100  \n",
       "4   1152.319946  2597500  \n",
       "5   1169.949951  1709400  \n",
       "6   1173.989990  1444300  \n",
       "7   1204.800049  1468000  \n",
       "8   1188.010010  1065700  \n",
       "9   1174.709961  1003000  \n",
       "10  1197.270020  1294400  \n",
       "11  1164.290039  1578700  \n",
       "12  1167.260010  1218700  \n",
       "13  1177.599976  1313300  \n",
       "14  1198.449951  1231600  \n",
       "15  1182.689941   915500  \n",
       "16  1191.250000   740700  \n",
       "17  1189.530029   947500  \n",
       "18  1151.290039  1687000  \n",
       "19  1168.890015  1226100  \n",
       "20  1167.839966  1077200  \n",
       "21  1171.020020   802000  \n",
       "22  1192.849976  1088400  \n",
       "23  1188.099976  1129800  "
      ]
     },
     "execution_count": 195,
     "metadata": {},
     "output_type": "execute_result"
    }
   ],
   "source": [
    "# Getting the real stock price for February 1st 2012 - \n",
    "dataset_test = pd.read_csv('GOOG_test.csv')\n",
    "dataset_test"
   ]
  },
  {
   "cell_type": "code",
   "execution_count": 196,
   "metadata": {},
   "outputs": [
    {
     "data": {
      "text/plain": [
       "24"
      ]
     },
     "execution_count": 196,
     "metadata": {},
     "output_type": "execute_result"
    }
   ],
   "source": [
    "real_stock_price = dataset_test.iloc[:, 1:2].values\n",
    "real_stock_price.size"
   ]
  },
  {
   "cell_type": "code",
   "execution_count": 197,
   "metadata": {},
   "outputs": [
    {
     "data": {
      "text/plain": [
       "array([[1225.410034],\n",
       "       [1223.      ],\n",
       "       [1214.030029],\n",
       "       [1200.73999 ],\n",
       "       [1170.040039],\n",
       "       [1163.310059],\n",
       "       [1156.      ],\n",
       "       [1182.829956],\n",
       "       [1197.98999 ],\n",
       "       [1179.209961],\n",
       "       [1171.459961],\n",
       "       [1176.310059],\n",
       "       [1163.5     ],\n",
       "       [1179.550049],\n",
       "       [1190.089966],\n",
       "       [1195.25    ],\n",
       "       [1193.150024],\n",
       "       [1194.069946],\n",
       "       [1181.98999 ],\n",
       "       [1157.26001 ],\n",
       "       [1180.530029],\n",
       "       [1161.709961],\n",
       "       [1181.119995],\n",
       "       [1198.5     ]])"
      ]
     },
     "execution_count": 197,
     "metadata": {},
     "output_type": "execute_result"
    }
   ],
   "source": [
    "real_stock_price"
   ]
  },
  {
   "cell_type": "code",
   "execution_count": 198,
   "metadata": {},
   "outputs": [],
   "source": [
    "\n",
    "# axis = 0 means concatenate the lines (i.e. vertical axis)\n",
    "dataset_total = pd.concat((dataset_train['Open'], dataset_test['Open']), axis = 0) "
   ]
  },
  {
   "cell_type": "code",
   "execution_count": 199,
   "metadata": {},
   "outputs": [
    {
     "data": {
      "text/plain": [
       "2541"
      ]
     },
     "execution_count": 199,
     "metadata": {},
     "output_type": "execute_result"
    }
   ],
   "source": [
    "dataset_total.size\n"
   ]
  },
  {
   "cell_type": "code",
   "execution_count": 200,
   "metadata": {},
   "outputs": [],
   "source": [
    "# the difference in the length of the first two gives us \n",
    "# the first day in 2019, and we need to go back 90 days to get the necessary range\n",
    "inputs = dataset_total[len(dataset_total) - len(dataset_test) - 90:].values"
   ]
  },
  {
   "cell_type": "code",
   "execution_count": 201,
   "metadata": {},
   "outputs": [
    {
     "data": {
      "text/plain": [
       "114"
      ]
     },
     "execution_count": 201,
     "metadata": {},
     "output_type": "execute_result"
    }
   ],
   "source": [
    "inputs.size"
   ]
  },
  {
   "cell_type": "code",
   "execution_count": 202,
   "metadata": {},
   "outputs": [],
   "source": [
    "# we did not use iloc from panda so lets reshape the numpy array for \n",
    "# compatibility: i.e. all the values from input lines to be stacked in one \n",
    "# column. The -1 means that the numpy has no knowledge of how the \n",
    "# values were stored in lines. The 1 means we want to them in one \n",
    "# column.\n",
    "\n",
    "inputs = inputs.reshape(-1,1) \n",
    "\n",
    "# apply the feature scaler\n",
    "inputs = sc.transform(inputs)"
   ]
  },
  {
   "cell_type": "code",
   "execution_count": 211,
   "metadata": {},
   "outputs": [],
   "source": [
    "# Getting the predicted stock price of 2017\n",
    "X_test = []"
   ]
  },
  {
   "cell_type": "code",
   "execution_count": 212,
   "metadata": {},
   "outputs": [],
   "source": [
    "# the first 90 from inputs are from training set; start \n",
    "# from 90 and get the extra 20, i.e. up to 110\n",
    "for i in range(90, 110): \n",
    "    X_test.append(inputs[i-90:i, 0])\n"
   ]
  },
  {
   "cell_type": "code",
   "execution_count": 213,
   "metadata": {},
   "outputs": [],
   "source": [
    "X_test = np.array(X_test) # not 3D structure yet"
   ]
  },
  {
   "cell_type": "code",
   "execution_count": 214,
   "metadata": {},
   "outputs": [],
   "source": [
    "# create a 3D structure\n",
    "X_test = np.reshape(X_test, (X_test.shape[0], X_test.shape[1], 1))"
   ]
  },
  {
   "cell_type": "code",
   "execution_count": 215,
   "metadata": {},
   "outputs": [],
   "source": [
    "predicted_stock_price = regressor.predict(X_test)"
   ]
  },
  {
   "cell_type": "code",
   "execution_count": 216,
   "metadata": {},
   "outputs": [
    {
     "data": {
      "text/plain": [
       "20"
      ]
     },
     "execution_count": 216,
     "metadata": {},
     "output_type": "execute_result"
    }
   ],
   "source": [
    "# need to inverse the scaling to get meaningful predicted stock price # outputs\n",
    "predicted_stock_price = sc.inverse_transform(predicted_stock_price) \n",
    "predicted_stock_price.size"
   ]
  },
  {
   "cell_type": "markdown",
   "metadata": {},
   "source": [
    "### Result Visualization\n"
   ]
  },
  {
   "cell_type": "code",
   "execution_count": 209,
   "metadata": {},
   "outputs": [
    {
     "data": {
      "image/png": "[encoded data removed]",
      "text/plain": [
       "<Figure size 432x288 with 1 Axes>"
      ]
     },
     "metadata": {
      "needs_background": "light"
     },
     "output_type": "display_data"
    }
   ],
   "source": [
    "# Visualising the results\n",
    "\n",
    "plt.plot(real_stock_price, color = 'red', label = 'Real Apple Stock Price')\n",
    "\n",
    "plt.plot(predicted_stock_price, color = 'blue', label = 'Predicted Apple Stock Price')\n",
    "\n",
    "plt.title('Apple Stock Price Prediction')\n",
    "plt.xlabel('Time')\n",
    "plt.ylabel('Apple Stock Price')\n",
    "plt.legend()\n",
    "\n",
    "plt.show()"
   ]
  },
  {
   "cell_type": "markdown",
   "metadata": {},
   "source": [
    "The blue line shows the trend of the stock for the month of January 2017. \n",
    "\n",
    "Some observations:\n",
    "- The prediction lags behind the actual price curve because the model cannot react to fast non-linear changes. Spikes are examples of fast non-linear changes\n",
    "- Model reacts pretty well to smooth changes"
   ]
  },
  {
   "cell_type": "markdown",
   "metadata": {},
   "source": [
    "### Compute the RMSE\n",
    "\n",
    "If we need to compute the RMSE for our Stock Price Prediction problem, we use the real stock price and predicted stock price as shown.\n",
    "\n",
    "Then consider dividing this RMSE by the range of the Google Stock Price values of January 2017 to get a relative error, as opposed to an absolute error. \n"
   ]
  },
  {
   "cell_type": "code",
   "execution_count": 103,
   "metadata": {},
   "outputs": [],
   "source": [
    "#import the libraries\n",
    "import math\n",
    "from sklearn.metrics import mean_squared_error"
   ]
  },
  {
   "cell_type": "code",
   "execution_count": 104,
   "metadata": {},
   "outputs": [
    {
     "data": {
      "text/plain": [
       "92.9800080889726"
      ]
     },
     "execution_count": 104,
     "metadata": {},
     "output_type": "execute_result"
    }
   ],
   "source": [
    "rmse = math.sqrt( mean_squared_error( real_stock_price[0:20,:], predicted_stock_price))\n",
    "rmse"
   ]
  },
  {
   "cell_type": "code",
   "execution_count": null,
   "metadata": {},
   "outputs": [],
   "source": []
  }
 ],
 "metadata": {
  "kernelspec": {
   "display_name": "Python 3",
   "language": "python",
   "name": "python3"
  },
  "language_info": {
   "codemirror_mode": {
    "name": "ipython",
    "version": 3
   },
   "file_extension": ".py",
   "mimetype": "text/x-python",
   "name": "python",
   "nbconvert_exporter": "python",
   "pygments_lexer": "ipython3",
   "version": "3.7.3"
  }
 },
 "nbformat": 4,
 "nbformat_minor": 2
}
